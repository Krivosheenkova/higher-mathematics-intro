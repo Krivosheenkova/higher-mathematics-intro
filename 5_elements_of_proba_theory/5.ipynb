{
 "cells": [
  {
   "cell_type": "markdown",
   "metadata": {},
   "source": [
    "## Тема “Элементы теории вероятностей”"
   ]
  },
  {
   "cell_type": "markdown",
   "metadata": {},
   "source": [
    "**1.**<br>\n",
    "Напишите код, моделирующий выпадение поля в рулетке (с учетом поля зеро)."
   ]
  },
  {
   "cell_type": "code",
   "execution_count": 65,
   "metadata": {},
   "outputs": [],
   "source": [
    "import random\n",
    "import seaborn as sns\n",
    "def spin_roulette():\n",
    "    return (random.randint(0, 32))\n",
    "def calc_combination(n, k):\n",
    "    return math.factorial(n) / (math.factorial(n - k) * math.factorial(k))\n",
    "def bernoulli(n, k, p):\n",
    "    q = 1 - p\n",
    "    return calc_combination(n, k) * (p**k) * (q**(n-k))"
   ]
  },
  {
   "cell_type": "markdown",
   "metadata": {},
   "source": [
    "**2.** <br>\n",
    "Напишите код, проверяющий любую из теорем сложения или умножения вероятности на примере рулетки или подбрасывания монетки."
   ]
  },
  {
   "cell_type": "code",
   "execution_count": 183,
   "metadata": {},
   "outputs": [
    {
     "data": {
      "text/plain": [
       "0.4692423477281604"
      ]
     },
     "execution_count": 183,
     "metadata": {},
     "output_type": "execute_result"
    }
   ],
   "source": [
    "import math\n",
    "\n",
    "# теормема сложения:\n",
    "# из 10 спинов выпадет 5 или 6 четных чисел\n",
    "# Pn(k) = Сnk pk qn-k\n",
    "\n",
    "n = 100; k=1\n",
    "even_count = len(np.arange(0, 33, 2))\n",
    "odd_count = len(np.arange(0, 33)) - len(np.arange(0, 33, 2))\n",
    "pk = even_count/32\n",
    "\n",
    "bernoulli(10, 5, pk) + bernoulli(10, 6, pk)"
   ]
  },
  {
   "cell_type": "code",
   "execution_count": 184,
   "metadata": {},
   "outputs": [
    {
     "data": {
      "text/plain": [
       "0.462298"
      ]
     },
     "execution_count": 184,
     "metadata": {},
     "output_type": "execute_result"
    }
   ],
   "source": [
    "n = 1000\n",
    "\n",
    "def monteCarlo(n):\n",
    "    k = 0\n",
    "    x = [0]*n\n",
    "    for i in range(10):\n",
    "        a = [0 if spin_roulette() % 2 != 0 else 1 for _ in range(n)]\n",
    "        x = [x+a for x, a in zip(a, x)] \n",
    "    for i in x:\n",
    "        if i == 5 or i == 6:\n",
    "            k += 1\n",
    "    return k/n\n",
    "probas = [monteCarlo(n) for _ in range(n)]\n",
    "np.array(probas).mean()"
   ]
  },
  {
   "cell_type": "markdown",
   "metadata": {},
   "source": [
    "**3.**<br>Сгенерируйте десять выборок случайных чисел х0, …, х9.\n",
    "и постройте гистограмму распределения случайной суммы  +х0+ …+ х 9. "
   ]
  },
  {
   "cell_type": "code",
   "execution_count": 77,
   "metadata": {},
   "outputs": [
    {
     "data": {
      "image/png": "[encoded data removed]",
      "text/plain": [
       "<Figure size 432x288 with 1 Axes>"
      ]
     },
     "metadata": {
      "needs_background": "light"
     },
     "output_type": "display_data"
    }
   ],
   "source": [
    "import numpy as np\n",
    "g = []\n",
    "for i in range(100):\n",
    "    g.append([spin_roulette(0, 32) for _ in range(10)])\n",
    "sums = [sum(i) for i in g]\n",
    "sns.histplot(sums);"
   ]
  },
  {
   "cell_type": "markdown",
   "metadata": {},
   "source": [
    "**3.**<br>\n",
    "Дополните код Монте-Карло последовательности независимых испытаний расчетом соответствующих вероятностей (через биномиальное распределение) \n",
    "и сравните результаты.\n",
    "Повторите расчеты биномиальных коэффициентов и вероятностей k успехов в последовательности из n независимых испытаний, взяв другие значения n и k."
   ]
  },
  {
   "cell_type": "code",
   "execution_count": 121,
   "metadata": {},
   "outputs": [
    {
     "name": "stdout",
     "output_type": "stream",
     "text": [
      "Рассчетная вероятность по 100 испытаниям по формуле Бернулли: 0.375\n",
      "Среднее арифметическое по 100 испытаниям 100 испытаний 0.37129999999999996\n"
     ]
    }
   ],
   "source": [
    "n = 100\n",
    "p=0.5\n",
    "def toss_coin(samples, start, end, n, success_count):\n",
    "    k=0\n",
    "    x = None\n",
    "    for i in range(samples):\n",
    "        a = np.random.randint(start, end, n)\n",
    "        if x is None: x = a; continue\n",
    "        x = [x+a for x, a in zip(a, x)]        \n",
    "    for i in range(0, n):\n",
    "        if x[i] == success_count:\n",
    "            k = k + 1\n",
    "    return k/n\n",
    "v=bernoulli(4, 2, 0.5)\n",
    "print(f'Рассчетная вероятность по {n} испытаниям по формуле Бернулли:', v)\n",
    "probas = [toss_coin(4, 0, 2, n, 2) for _ in range(n)]\n",
    "print(f'Среднее арифметическое по {n} испытаниям {n} испытаний', np.array(probas).mean())"
   ]
  },
  {
   "cell_type": "code",
   "execution_count": 123,
   "metadata": {},
   "outputs": [
    {
     "name": "stdout",
     "output_type": "stream",
     "text": [
      "Рассчетная вероятность по 1000 испытаниям по формуле Бернулли: 0.0625\n",
      "Среднее арифметическое по 1000 испытаниям 1000 испытаний 0.062712\n"
     ]
    }
   ],
   "source": [
    "# веротяность, что 4 раза из 4х выпадет орел в серии из n испытаний\n",
    "n=1000\n",
    "v = bernoulli(4, 4, 0.5)\n",
    "print(f'Рассчетная вероятность по {n} испытаниям по формуле Бернулли:', v)\n",
    "probas = [toss_coin(4, 0, 2, n, 4) for _ in range(n)]\n",
    "print(f'Среднее арифметическое по {n} испытаниям {n} испытаний', np.array(probas).mean())"
   ]
  },
  {
   "cell_type": "code",
   "execution_count": 113,
   "metadata": {},
   "outputs": [
    {
     "name": "stdout",
     "output_type": "stream",
     "text": [
      "Рассчетная вероятность по 10000 испытаниям по формуле Бернулли: 0.0625\n",
      "Среднее арифметическое по 10000 испытаниям 10000 испытаний 0.06254008\n"
     ]
    }
   ],
   "source": [
    "# веротяность, что орел ни разу не выпадет \n",
    "n = 10000\n",
    "v = bernoulli(4, 4, 0.5)\n",
    "print(f'Рассчетная вероятность по {n} испытаниям по формуле Бернулли:', v)\n",
    "probas = [toss_coin(4, 0, 2, n, 0) for _ in range(n)]\n",
    "print(f'Среднее арифметическое по {n} испытаниям {n} испытаний', np.array(probas).mean())"
   ]
  },
  {
   "cell_type": "markdown",
   "metadata": {},
   "source": [
    "**4.**<br> (не обязательно, но желательно) Из урока по комбинаторике повторите расчеты, сгенерировав возможные варианты перестановок для других значений n и k"
   ]
  },
  {
   "cell_type": "code",
   "execution_count": 196,
   "metadata": {},
   "outputs": [
    {
     "name": "stdout",
     "output_type": "stream",
     "text": [
      "вжух вжху вужх вухж вхжу вхуж жвух жвху жувх жухв жхву жхув увжх увхж ужвх ужхв ухвж ухжв хвжу хвуж хжву хжув хувж хужв "
     ]
    }
   ],
   "source": [
    "import itertools\n",
    "for p in itertools.permutations(\"вжух\"):\n",
    "    print(''.join(p), end=' ')  "
   ]
  },
  {
   "cell_type": "code",
   "execution_count": 201,
   "metadata": {},
   "outputs": [
    {
     "name": "stdout",
     "output_type": "stream",
     "text": [
      "вжу вжх вух жух "
     ]
    }
   ],
   "source": [
    "for p in itertools.combinations(\"вжух\", 3):\n",
    "    print(''.join(p), end=' ')"
   ]
  }
 ],
 "metadata": {
  "kernelspec": {
   "display_name": "Python 3",
   "language": "python",
   "name": "python3"
  },
  "language_info": {
   "codemirror_mode": {
    "name": "ipython",
    "version": 3
   },
   "file_extension": ".py",
   "mimetype": "text/x-python",
   "name": "python",
   "nbconvert_exporter": "python",
   "pygments_lexer": "ipython3",
   "version": "3.8.5"
  },
  "toc": {
   "base_numbering": 1,
   "nav_menu": {},
   "number_sections": false,
   "sideBar": true,
   "skip_h1_title": false,
   "title_cell": "Table of Contents",
   "title_sidebar": "Contents",
   "toc_cell": false,
   "toc_position": {},
   "toc_section_display": true,
   "toc_window_display": false
  }
 },
 "nbformat": 4,
 "nbformat_minor": 4
}
