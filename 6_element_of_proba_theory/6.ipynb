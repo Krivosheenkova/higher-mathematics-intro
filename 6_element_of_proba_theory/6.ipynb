{
 "cells": [
  {
   "cell_type": "code",
   "execution_count": 14,
   "metadata": {},
   "outputs": [],
   "source": [
    "import math\n",
    "import itertools"
   ]
  },
  {
   "cell_type": "code",
   "execution_count": 19,
   "metadata": {},
   "outputs": [],
   "source": [
    "# расчет числа сочетаний без повторений\n",
    "def calc_combination(n, k):\n",
    "    return math.factorial(n) / (math.factorial(n - k) * math.factorial(k))\n",
    "\n",
    "# расчет числа размещений с повторениями\n",
    "def calc_accomodation(n, k):\n",
    "    return n**k\n",
    "\n",
    "# расчет числа перестановок без повторений\n",
    "def calc_permutation(n):\n",
    "    return math.factorial(n)"
   ]
  },
  {
   "cell_type": "markdown",
   "metadata": {},
   "source": [
    "**1 Задание (теорема сложения)**<br>\n",
    "Найти вероятность выпадения 2 или 5 очков при подбрасывании игральной кости, на гранях которой имеются соответственно 1,2,3,4,5 и 6 очков. "
   ]
  },
  {
   "cell_type": "markdown",
   "metadata": {},
   "source": [
    "$A$ - выпадение двух очков $\\qquad P(A) = \\frac{1}{6}$<br>\n",
    "\n",
    "$B$ - выпадение пяти очков $\\qquad P(B) = \\frac{1}{6}$<br>\n",
    "\n",
    "$P(A+B) = \\frac{1}{6} + \\frac{1}{6} = \\frac{1}{3}$"
   ]
  },
  {
   "cell_type": "markdown",
   "metadata": {},
   "source": [
    "**2 Задание (теорема умножения)**<br>\n",
    "Найти вероятность того, что при двух подбрасываниях той же самой игральной кости сначала выпадет 2, а затем 5."
   ]
  },
  {
   "cell_type": "markdown",
   "metadata": {},
   "source": [
    "$P(AB)=\\frac{1}{6} \\cdot \\frac{1}{6} = \\frac{1}{36}$"
   ]
  },
  {
   "cell_type": "markdown",
   "metadata": {},
   "source": [
    "**3 Задание**<br>\n",
    "Найти вероятность выпадения 2 и 5 очков при двух подбрасываниях той же самой игральной игральной кости. Обратите внимание на порядок выпадения костей!"
   ]
  },
  {
   "cell_type": "markdown",
   "metadata": {},
   "source": [
    "<p style='color:red'>Не вижу разницы между второй и третьей задачей."
   ]
  },
  {
   "cell_type": "code",
   "execution_count": 114,
   "metadata": {},
   "outputs": [
    {
     "name": "stdout",
     "output_type": "stream",
     "text": [
      "1000 29 0.029\n",
      "0.027909999999999963\n"
     ]
    }
   ],
   "source": [
    "import random\n",
    "n = 1000\n",
    "s = 0\n",
    "for i in range(n):\n",
    "    k = 0\n",
    "    a = [random.randint(1, 6) for i in range(n)]\n",
    "    b = [random.randint(1, 6) for i in range(n)]\n",
    "    for ai, bi in zip(a, b):\n",
    "    #     print(ai, bi, end='   ')\n",
    "        if ai == 2 and bi == 5:\n",
    "            k += 1\n",
    "    s += k/n\n",
    "print(n, k, k/n)\n",
    "print(s/n)"
   ]
  },
  {
   "cell_type": "code",
   "execution_count": 113,
   "metadata": {},
   "outputs": [
    {
     "data": {
      "text/plain": [
       "0.027777777777777776"
      ]
     },
     "execution_count": 113,
     "metadata": {},
     "output_type": "execute_result"
    }
   ],
   "source": [
    "1/36"
   ]
  },
  {
   "cell_type": "markdown",
   "metadata": {},
   "source": [
    "**4 Задание  (Геометрическая вероятность +интервалы)**<br>\n",
    "На отрезке AB длиной 20 см наугад отметили точку C. Какова вероятность, что она находится на расстоянии не более 9 см от точки А и не более 15 см от точки В?"
   ]
  },
  {
   "cell_type": "code",
   "execution_count": 12,
   "metadata": {},
   "outputs": [
    {
     "name": "stdout",
     "output_type": "stream",
     "text": [
      "AC <= 9cm, BC <= 15cm с вероятностью 0.2\n"
     ]
    }
   ],
   "source": [
    "AB = 20; AM = 9; NB = 15\n",
    "MN = AM + NB - AB\n",
    "p = MN / AB\n",
    "print('AC <= 9cm, BC <= 15cm с вероятностью',p)"
   ]
  },
  {
   "cell_type": "markdown",
   "metadata": {},
   "source": [
    " \n",
    "**5 Задание**<br> Телефонный номер состоит из 7 цифр. Какова вероятность, \n",
    "что это номер 8882227?"
   ]
  },
  {
   "cell_type": "code",
   "execution_count": 13,
   "metadata": {},
   "outputs": [
    {
     "name": "stdout",
     "output_type": "stream",
     "text": [
      "Вероятность, что это номер 8882227: 1e-07\n"
     ]
    }
   ],
   "source": [
    "n = 10; k = 7\n",
    "print('Вероятность, что это номер 8882227:', 1 / calc_accomodation(n, k))"
   ]
  },
  {
   "cell_type": "markdown",
   "metadata": {},
   "source": [
    "**6 Задание**<br> Набирая номер телефона, абонент забыл 2 последние цифры, и, помня только то, что эти цифры различны и среди них нет нуля, стал набирать их наудачу. Сколько вариантов ему надо перебрать, чтобы наверняка найти нужный номер? Какова вероятность того, что он угадает номер с первого раза?"
   ]
  },
  {
   "cell_type": "code",
   "execution_count": 15,
   "metadata": {},
   "outputs": [
    {
     "name": "stdout",
     "output_type": "stream",
     "text": [
      "11 12 13 14 15 16 17 18 19 21 22 23 24 25 26 27 28 29 31 32 33 34 35 36 37 38 39 41 42 43 44 45 46 47 48 49 51 52 53 54 55 56 57 58 59 61 62 63 64 65 66 67 68 69 71 72 73 74 75 76 77 78 79 81 82 83 84 85 86 87 88 89 91 92 93 94 95 96 97 98 99 "
     ]
    }
   ],
   "source": [
    "for p in itertools.product(\"123456789\", repeat=2):\n",
    "    print(''.join(p), end=' ')"
   ]
  },
  {
   "cell_type": "code",
   "execution_count": 16,
   "metadata": {},
   "outputs": [
    {
     "name": "stdout",
     "output_type": "stream",
     "text": [
      "Число вариантов для перебора: 81\n",
      "Вероятность угадать номер с первого раза: 0.012345679012345678\n"
     ]
    }
   ],
   "source": [
    "n = 9; k = 2\n",
    "acc = calc_accomodation(n, k)\n",
    "print(f'Число вариантов для перебора: {acc}')\n",
    "print(f'Вероятность угадать номер с первого раза:', 1 / acc)"
   ]
  },
  {
   "cell_type": "markdown",
   "metadata": {},
   "source": [
    "**7 Задание**** (необязательное)<br> \n",
    "Чёрный куб покрасили снаружи белой краской, затем разрезали на 27 одинаковых маленьких кубиков и как попало сложили из них большой куб. С какой вероятностью все грани этого куба будут белыми?\n",
    " "
   ]
  },
  {
   "cell_type": "markdown",
   "metadata": {},
   "source": [
    "*Все возможные варианты =* $ 27!24^{27} $<br>\n",
    "*Покрашена одна грань - 6 кубиков, 4 варианта расположения*, $P_1 = \\frac{6!4^6}{27!24^{27}}$<br>\n",
    "\n",
    "*Покрашено две грани - 12 кубиков, 2 варианта расположения*, $P_2 = \\frac{12!2^{12}}{27!24^{27}}$<br>\n",
    "\n",
    "*Покрашено три грани - 8 кубиков, 3 варианта расположения*, $P_3 = \\frac{8!3^8}{27!24^{27}}$<br>\n",
    "\n",
    "*Не покрашено ни одной - 1 черный кубик, 24 варианта(все варианты вращения)*, $P_{ч}=\\frac{1!24}{27!24^{27}}$<br>\n",
    "\n",
    "*Вероятность события, что все грани этого куба будут белыми:* $P_1 \\cdot P_2 \\cdot P_3 \\cdot P_{ч} = \\frac{6! \\cdot 4^6 \\cdot 12!\\cdot 2^{12} \\cdot 8!\\cdot 3^8 \\cdot 24}{27! \\cdot{24}^{27}}\n",
    "= \\frac{8!\\cdot 3^8 \\cdot 12!\\cdot 2^{24} \\cdot 6!}{27! \\cdot{24}^{26}}$"
   ]
  },
  {
   "cell_type": "code",
   "execution_count": 43,
   "metadata": {},
   "outputs": [
    {
     "name": "stdout",
     "output_type": "stream",
     "text": [
      "Вероятность, что все грани куба белые: 1.8298051356415021e-37\n"
     ]
    }
   ],
   "source": [
    "total = calc_permutation(27)*24**27\n",
    "\n",
    "varss = calc_accomodation(6)*4**6*calc_accomodation(12)*2**12*calc_accomodation(8)*3**8*24\n",
    "\n",
    "print('Вероятность, что все грани куба белые:', (varss/total))"
   ]
  }
 ],
 "metadata": {
  "kernelspec": {
   "display_name": "Python 3",
   "language": "python",
   "name": "python3"
  },
  "language_info": {
   "codemirror_mode": {
    "name": "ipython",
    "version": 3
   },
   "file_extension": ".py",
   "mimetype": "text/x-python",
   "name": "python",
   "nbconvert_exporter": "python",
   "pygments_lexer": "ipython3",
   "version": "3.8.5"
  },
  "toc": {
   "base_numbering": 1,
   "nav_menu": {},
   "number_sections": true,
   "sideBar": true,
   "skip_h1_title": false,
   "title_cell": "Table of Contents",
   "title_sidebar": "Contents",
   "toc_cell": false,
   "toc_position": {},
   "toc_section_display": true,
   "toc_window_display": false
  }
 },
 "nbformat": 4,
 "nbformat_minor": 4
}
