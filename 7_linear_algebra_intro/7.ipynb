{
 "cells": [
  {
   "cell_type": "code",
   "execution_count": 71,
   "metadata": {},
   "outputs": [],
   "source": [
    "import numpy as np"
   ]
  },
  {
   "cell_type": "markdown",
   "metadata": {},
   "source": [
    "### Практическое задание по теме \"Введение в линейную алгебру\""
   ]
  },
  {
   "cell_type": "markdown",
   "metadata": {},
   "source": [
    "**5.1.**<br>\n",
    "Вектор – это частный случай матрицы 1хN и Nх1. Повторите материал для векторов, уделяя особое внимание умножению A∙B.<br>\n",
    "Вычислите, по возможности не используя программирование: (5E)-1 где Е – единичная матрица размера 5х5."
   ]
  },
  {
   "cell_type": "markdown",
   "metadata": {},
   "source": [
    "$ 5 \\cdot \\begin{vmatrix}\n",
    "1 & 0 & 0 & 0 & 0\\\\\n",
    "0 & 1 & 0 & 0 & 0\\\\\n",
    "0 & 0 & 1 & 0 & 0\\\\\n",
    "0 & 0 & 0 & 1 & 0\\\\\n",
    "0 & 0 & 0 & 0 & 1\n",
    "\\end{vmatrix} - 1 =\n",
    "\\begin{vmatrix}\n",
    "4 & -1 & -1 & -1 & -1\\\\\n",
    "-1 & 4 & -1 & -1 & -1\\\\\n",
    "-1 & -1 & 4 & -1 & -1\\\\\n",
    "-1 & -1 & -1 & 4 & -1\\\\\n",
    "-1 & -1 & -1 & -1 & 4\n",
    "\\end{vmatrix}$"
   ]
  },
  {
   "cell_type": "code",
   "execution_count": 72,
   "metadata": {},
   "outputs": [
    {
     "data": {
      "text/plain": [
       "array([[ 4., -1., -1., -1., -1.],\n",
       "       [-1.,  4., -1., -1., -1.],\n",
       "       [-1., -1.,  4., -1., -1.],\n",
       "       [-1., -1., -1.,  4., -1.],\n",
       "       [-1., -1., -1., -1.,  4.]])"
      ]
     },
     "execution_count": 72,
     "metadata": {},
     "output_type": "execute_result"
    }
   ],
   "source": [
    "5*np.eye(5)-1"
   ]
  },
  {
   "cell_type": "markdown",
   "metadata": {},
   "source": [
    "**5.2.**<br>\n",
    "Вычислите определитель:\n",
    "$ \\begin{vmatrix}\n",
    "1 & 2 & 3\\\\\n",
    "4 & 0 & 6\\\\\n",
    "7 & 8 & 9\\\\\n",
    "\\end{vmatrix}=A$"
   ]
  },
  {
   "cell_type": "markdown",
   "metadata": {},
   "source": [
    "$det A =  1\\cdot0\\cdot9 + 2\\cdot6\\cdot7 + 3\\cdot4\\cdot8 - 7\\cdot0\\cdot3 - 8\\cdot6\\cdot1 - 9\\cdot4\\cdot2 = 180 - 120 = \\underline{60}$"
   ]
  },
  {
   "cell_type": "code",
   "execution_count": 73,
   "metadata": {},
   "outputs": [
    {
     "data": {
      "text/plain": [
       "59.999999999999986"
      ]
     },
     "execution_count": 73,
     "metadata": {},
     "output_type": "execute_result"
    }
   ],
   "source": [
    "A = [[1, 2, 3], [4, 0, 6], [7, 8, 9]]\n",
    "np.linalg.det(A)"
   ]
  },
  {
   "cell_type": "markdown",
   "metadata": {},
   "source": [
    "**5.3.**<br>\n",
    "1. Вычислите матрицу, обратную данной: $\\begin{vmatrix}\n",
    "1 & 2 & 3\\\\\n",
    "4 & 0 & 6\\\\\n",
    "7 & 8 & 9\\\\\n",
    "\\end{vmatrix}$"
   ]
  },
  {
   "cell_type": "markdown",
   "metadata": {},
   "source": [
    "$A^{-1} = \\frac{1}{detA}A_{\\cdot}^{T}, detA \\ne 0 $"
   ]
  },
  {
   "cell_type": "markdown",
   "metadata": {},
   "source": [
    "Матрица алгебраических дополнений:<br> $ A_{\\bullet} = \n",
    "\\begin{vmatrix}\n",
    "-48 & 6 & 32 \\\\\n",
    "6 & -12 & 6 \\\\\n",
    "12 & 6 & -8\n",
    "\\end{vmatrix}$"
   ]
  },
  {
   "cell_type": "markdown",
   "metadata": {},
   "source": [
    "$A^{-1} = \\frac{1}{60} \\cdot \\begin{vmatrix} \n",
    "-48 & 6 & 12 \\\\\n",
    "6 & -12 & 6 \\\\\n",
    "32 & 6 & -8\n",
    "\\end{vmatrix}\n",
    "= \n",
    "\\begin{vmatrix}\n",
    "-\\frac{4}{5} & 0.1 & \\frac{1}{5} \\\\\n",
    "0.1 & -\\frac{1}{5} & 0.1 \\\\\n",
    "\\frac{8}{15} & 0.1 & -\\frac{2}{15}\\end{vmatrix}$"
   ]
  },
  {
   "cell_type": "code",
   "execution_count": 74,
   "metadata": {},
   "outputs": [
    {
     "data": {
      "text/plain": [
       "array([[-0.8       ,  0.1       ,  0.2       ],\n",
       "       [ 0.1       , -0.2       ,  0.1       ],\n",
       "       [ 0.53333333,  0.1       , -0.13333333]])"
      ]
     },
     "execution_count": 74,
     "metadata": {},
     "output_type": "execute_result"
    }
   ],
   "source": [
    "A_inv = np.linalg.inv(A)\n",
    "A_inv"
   ]
  },
  {
   "cell_type": "code",
   "execution_count": 75,
   "metadata": {},
   "outputs": [
    {
     "data": {
      "text/plain": [
       "array([[1, 0, 0],\n",
       "       [0, 1, 0],\n",
       "       [0, 0, 1]])"
      ]
     },
     "execution_count": 75,
     "metadata": {},
     "output_type": "execute_result"
    }
   ],
   "source": [
    "# A * A_inv\n",
    "np.array([[round(k) for k in i] for i in (A @ A_inv)])"
   ]
  },
  {
   "cell_type": "markdown",
   "metadata": {},
   "source": [
    "2. Приведите пример матрицы 4х4, ранг которой равен 1."
   ]
  },
  {
   "cell_type": "markdown",
   "metadata": {},
   "source": [
    "$rank\\begin{vmatrix}\n",
    "1 & 0 & 0 & 0\\\\\n",
    "4 & 0 & 0 & 0\\\\\n",
    "7 & 0 & 0 & 0\\\\\n",
    "10 & 0 & 0 & 0 \\\\\n",
    "\\end{vmatrix}=1$"
   ]
  },
  {
   "cell_type": "markdown",
   "metadata": {},
   "source": [
    "**5.4.**<br>\n",
    "Вычислите скалярное произведение двух векторов:  \n",
    "(1, 5)  и  (2, 8)"
   ]
  },
  {
   "cell_type": "markdown",
   "metadata": {},
   "source": [
    "Ответ: 2 + 40 = 42"
   ]
  },
  {
   "cell_type": "markdown",
   "metadata": {},
   "source": [
    "**5.5.**<br>\n",
    "\n",
    "Вычислите смешанное произведение трех векторов: (1, 5, 0), (2, 8, 7) и (7, 1.5, 3) "
   ]
  },
  {
   "cell_type": "markdown",
   "metadata": {},
   "source": [
    "$(\\vec{a}, \\vec{b}, \\vec{c}) = \\begin{vmatrix}\n",
    "a_{x} & a_{y} & a_{z} \\\\\n",
    "b_{x} & b_{y} & b_{z} \\\\\n",
    "c_{x} & c_{y} & c_{z} \\\\\n",
    "\\end{vmatrix}= a_{x}b_{y}c_{z} + a_{y}b_{z}c_{x} + a_{z}b_{x}c_{y} - a_{z}b_{y}c_{x} - c_{y}b_{z}b_{x} - c_{z}b_{x}a_{y} $"
   ]
  },
  {
   "cell_type": "markdown",
   "metadata": {},
   "source": [
    "$\\begin{vmatrix}\n",
    "1 & 5 & 0\\\\\n",
    "2 & 8 & 7\\\\\n",
    "7 & 1.5 & 3\\\\\n",
    "\\end{vmatrix} = 1\\cdot8\\cdot3 + 5\\cdot7\\cdot7 + 0\\cdot2\\cdot1.5 - 0\\cdot8\\cdot7 - 5\\cdot2\\cdot3 - 1\\cdot7\\cdot1.5 = \\underline{228.5}$"
   ]
  },
  {
   "cell_type": "code",
   "execution_count": 76,
   "metadata": {},
   "outputs": [
    {
     "data": {
      "text/plain": [
       "228.50000000000009"
      ]
     },
     "execution_count": 76,
     "metadata": {},
     "output_type": "execute_result"
    }
   ],
   "source": [
    "f = [[1, 5, 0], [2, 8, 7], [7, 1.5, 3]]\n",
    "np.linalg.det(f)"
   ]
  },
  {
   "cell_type": "markdown",
   "metadata": {},
   "source": [
    "### Практическое задание по теме \"Системы линейных алгебраических уравнений\""
   ]
  },
  {
   "cell_type": "markdown",
   "metadata": {},
   "source": [
    "**1.**<br>\n",
    "Решите линейную систему: $ \\begin{vmatrix} \n",
    "1&2&3\\\\\n",
    "4&0&6\\\\\n",
    "7&8&9\\\\\n",
    "\\end{vmatrix}\\cdot X = \\begin{vmatrix} 12\\\\2\\\\1 \\end{vmatrix}, \\qquad X = \\begin{vmatrix}x\\\\y\\\\z\\end{vmatrix} $"
   ]
  },
  {
   "cell_type": "markdown",
   "metadata": {},
   "source": [
    "$X = A^{-1} \\cdot \\begin{vmatrix} 12\\\\2\\\\1 \\end{vmatrix} = \\begin{vmatrix} \n",
    "12 \\cdot -\\frac{4}{5} + 2 \\cdot 0.1 + 1 \\cdot \\frac{1}{5}\\\\\n",
    "12 \\cdot 0.1 + 2 \\cdot -\\frac{1}{5} + 1 \\cdot 0.1 \\\\\n",
    "12 \\cdot \\frac{8}{15} + 2 \\cdot 0.1 - 1 \\cdot \\frac{2}{15} \n",
    "\\end{vmatrix} \n",
    "= \n",
    "\\begin{vmatrix}\n",
    "-9.2 \\\\\n",
    "0.9 \\\\\n",
    "6.4(6)\n",
    "\\end{vmatrix}$"
   ]
  },
  {
   "cell_type": "code",
   "execution_count": 79,
   "metadata": {},
   "outputs": [
    {
     "data": {
      "text/plain": [
       "array([[-9.2       ],\n",
       "       [ 0.9       ],\n",
       "       [ 6.46666667]])"
      ]
     },
     "execution_count": 79,
     "metadata": {},
     "output_type": "execute_result"
    }
   ],
   "source": [
    "A_inv @ [[12], [2], [1]]"
   ]
  },
  {
   "cell_type": "markdown",
   "metadata": {},
   "source": [
    "**2.**<br>\n",
    "Найдите псевдорешение:<br>\n",
    "$ x + 2y - z = 1 $<br>\n",
    "$ 3x - 4y = 7 $<br>\n",
    "$ 8x - 5y + 2z = 12 $<br>\n",
    "$ 2x - 5z = 7 $<br>\n",
    "$ 11x + 4y - 7z = 15 $<br>"
   ]
  },
  {
   "cell_type": "code",
   "execution_count": 105,
   "metadata": {
    "scrolled": true
   },
   "outputs": [
    {
     "data": {
      "text/plain": [
       "(array([[ 1.13919353],\n",
       "        [-0.90498444],\n",
       "        [-0.9009803 ]]),\n",
       " array([0.71523211]),\n",
       " 3,\n",
       " array([15.2817306 ,  9.59852942,  3.65197794]))"
      ]
     },
     "execution_count": 105,
     "metadata": {},
     "output_type": "execute_result"
    }
   ],
   "source": [
    "A = np.array([[1, 2, -1], \n",
    "              [3, -4, 0], \n",
    "              [8, -5, 2], \n",
    "              [2, 0, -5], \n",
    "              [11, 4, -7]])\n",
    "B = np.array([[1], \n",
    "             [7], \n",
    "             [12], \n",
    "             [7], \n",
    "             [15]])\n",
    "np.linalg.lstsq(A, B, rcond=None)"
   ]
  },
  {
   "cell_type": "code",
   "execution_count": 114,
   "metadata": {},
   "outputs": [
    {
     "data": {
      "text/plain": [
       "array([ 0.23020495,  7.03751835, 11.83650984,  6.78328856, 15.21805317])"
      ]
     },
     "execution_count": 114,
     "metadata": {},
     "output_type": "execute_result"
    }
   ],
   "source": [
    "np.dot(A, [1.13919353, -0.90498444, -0.9009803])"
   ]
  },
  {
   "cell_type": "code",
   "execution_count": 116,
   "metadata": {},
   "outputs": [
    {
     "data": {
      "image/png": "[encoded data removed]",
      "text/plain": [
       "<Figure size 576x576 with 1 Axes>"
      ]
     },
     "metadata": {
      "needs_background": "light"
     },
     "output_type": "display_data"
    }
   ],
   "source": [
    "import matplotlib.pyplot as plt\n",
    "%matplotlib inline\n",
    "x = np.linspace(-3, 3, 201)\n",
    "y = np.linspace(-3, 3, 201)\n",
    "z = 2*y+x-1\n",
    "\n",
    "fig = plt.figure(figsize=(8, 8))\n",
    "\n",
    "ax = fig.gca(projection='3d')\n",
    "\n",
    "ax.plot(x, y, z)\n",
    "ax.plot(x, -((7+3*y)/4), [0]*201)\n",
    "ax.plot(x, y, 6+2.5*y-4*x)\n",
    "ax.plot(x,[0]*201, (2*x-7)/5)\n",
    "ax.plot(x, y, (11*x + 4*y - 5)/7)\n",
    "ax.plot(1.13919353, -0.90498444, -0.9009803, 'ro')\n",
    "\n",
    "ax.set_xlabel('x')\n",
    "ax.set_ylabel('y')\n",
    "ax.set_zlabel('z')\n",
    "plt.show()"
   ]
  },
  {
   "cell_type": "markdown",
   "metadata": {},
   "source": [
    "Ответ: $X = \\begin{vmatrix}1.14\\\\ -0.9\\\\ -0.9\\end{vmatrix}$"
   ]
  },
  {
   "cell_type": "markdown",
   "metadata": {},
   "source": [
    "**3.**<br>\n",
    "Сколько решений имеет линейная система:\n",
    "$ \\begin{vmatrix} \n",
    "1&2&3\\\\\n",
    "4&5&6\\\\\n",
    "7&8&9\\\\\n",
    "\\end{vmatrix}\\cdot X = \\begin{vmatrix} 12\\\\2\\\\1 \\end{vmatrix} $<br>\n",
    "Если ноль - то измените вектор правой части так, чтобы система стала совместной, и решите её. "
   ]
  },
  {
   "cell_type": "markdown",
   "metadata": {},
   "source": [
    "$A = \\begin{vmatrix} \n",
    "1&2&3\\\\\n",
    "4&5&6\\\\\n",
    "7&8&9\\\\\n",
    "\\end{vmatrix} \\qquad B = \\begin{vmatrix}12\\\\2\\\\1\\end{vmatrix} \\qquad (A|B) = \\begin{vmatrix}1&2&3&12\\\\\n",
    "4&5&6&2\\\\\n",
    "7&8&9&1\\\\\\end{vmatrix}$<br>\n",
    "*Чтобы система была совместной, ранги основной и расширенной матриц должны совпадать.*<br>\n",
    "*Ранг матрицы можно вычислить с помощью метода Гаусса:*\n",
    "$ (A) = \\begin{vmatrix} \n",
    "1&2&3\\\\\n",
    "4&5&6\\\\\n",
    "7&8&9\\\\\n",
    "\\end{vmatrix} \\sim \\begin{vmatrix} \n",
    "1&2&3\\\\ \n",
    "0&-3&-6\\\\\n",
    "0&-6&-12\\\\\n",
    "\\end{vmatrix} \\sim \\begin{vmatrix}\n",
    "1&2&3\\\\\n",
    "0&-3&-6\\\\\n",
    "0&0&0\\\\\n",
    "\\end{vmatrix} \\Rightarrow rank(A) = 2$<br>\n",
    "$(A|B) = \\begin{vmatrix}1&2&3&12\\\\\n",
    "4&5&6&2\\\\\n",
    "7&8&9&1\\\\\\end{vmatrix} \\sim \\begin{vmatrix}1&2&3&12\\\\0&-3&-6&-46\\\\0&-6&-12&-83\\end{vmatrix} \\sim \\begin{vmatrix}1&2&3&12\\\\0&-3&-6&-46\\\\0&0&0&9\\end{vmatrix}  \\Rightarrow rank(A|B) = 3$<br>\n",
    "\n",
    "$rank(A)\\ne rank(A|B) \\Rightarrow \\text{система несовместна.}$<br>"
   ]
  },
  {
   "cell_type": "markdown",
   "metadata": {},
   "source": [
    "$B = \\begin{vmatrix}1\\\\1\\\\1\\end{vmatrix}$<br>\n",
    "$(A|B) = \\begin{vmatrix}1&2&3&1\\\\\n",
    "4&5&6&1\\\\\n",
    "7&8&9&1\\\\\\end{vmatrix} \\sim \\begin{vmatrix}1&2&3&1\\\\0&-3&-6&-3\\\\0&-6&-12&-6\\end{vmatrix} \\sim \\begin{vmatrix}1&2&3&1\\\\0&-3&-6&-3\\\\0&0&0&0\\end{vmatrix} \\Rightarrow rank(A|B) = 2$<br>\n",
    "$rank(A) = rank(A|B), \\text{система совместна. Ранги матриц меньше количества столбцов A} \\Rightarrow \\text{система имеет бесконечное множество решений}$<br>"
   ]
  },
  {
   "cell_type": "markdown",
   "metadata": {},
   "source": [
    "Общее решение:<br>\n",
    "$ x + 2y + 3z = 1 $<br>\n",
    "$ -3y - 6z = -3$<br>\n",
    "\n",
    "$y = 1 - 2z \\qquad x = 1 - 2(1 - 2z) - 3z = z - 1$<br>\n",
    "$ X = \\begin{vmatrix}z - 1\\\\1 - 2z\\\\z\\end{vmatrix}$"
   ]
  },
  {
   "cell_type": "markdown",
   "metadata": {},
   "source": [
    "**4.**<br>\n",
    "Вычислите LU-разложение матрицы: $\\begin{vmatrix}\n",
    "1&2&3\\\\\n",
    "2&16&21\\\\\n",
    "4&28&73\\\\\n",
    "\\end{vmatrix}$"
   ]
  },
  {
   "cell_type": "code",
   "execution_count": 120,
   "metadata": {},
   "outputs": [
    {
     "name": "stdout",
     "output_type": "stream",
     "text": [
      "P =  [[0. 1. 0.]\n",
      " [0. 0. 1.]\n",
      " [1. 0. 0.]]\n",
      "L =  [[ 1.    0.    0.  ]\n",
      " [ 0.25  1.    0.  ]\n",
      " [ 0.5  -0.4   1.  ]]\n",
      "U =  [[  4.    28.    73.  ]\n",
      " [  0.    -5.   -15.25]\n",
      " [  0.     0.   -21.6 ]]\n"
     ]
    }
   ],
   "source": [
    "import scipy \n",
    "import scipy.linalg  \n",
    "\n",
    "A = np.array([ [1, 2, 3], [2, 16, 21], [4, 28, 73]])\n",
    "P, L, U = scipy.linalg.lu(A)\n",
    "\n",
    "print(\"P = \", P)\n",
    "print(\"L = \", L)\n",
    "print(\"U = \", U)"
   ]
  },
  {
   "cell_type": "code",
   "execution_count": null,
   "metadata": {},
   "outputs": [],
   "source": []
  }
 ],
 "metadata": {
  "kernelspec": {
   "display_name": "Python 3",
   "language": "python",
   "name": "python3"
  },
  "language_info": {
   "codemirror_mode": {
    "name": "ipython",
    "version": 3
   },
   "file_extension": ".py",
   "mimetype": "text/x-python",
   "name": "python",
   "nbconvert_exporter": "python",
   "pygments_lexer": "ipython3",
   "version": "3.8.5"
  },
  "toc": {
   "base_numbering": 1,
   "nav_menu": {},
   "number_sections": false,
   "sideBar": true,
   "skip_h1_title": false,
   "title_cell": "Table of Contents",
   "title_sidebar": "Contents",
   "toc_cell": false,
   "toc_position": {},
   "toc_section_display": true,
   "toc_window_display": false
  }
 },
 "nbformat": 4,
 "nbformat_minor": 4
}
