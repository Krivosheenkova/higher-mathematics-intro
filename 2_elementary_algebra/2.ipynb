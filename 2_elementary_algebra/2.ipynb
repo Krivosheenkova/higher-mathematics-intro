{
  "nbformat": 4,
  "nbformat_minor": 0,
  "metadata": {
    "kernelspec": {
      "display_name": "Python 3",
      "language": "python",
      "name": "python3"
    },
    "language_info": {
      "codemirror_mode": {
        "name": "ipython",
        "version": 3
      },
      "file_extension": ".py",
      "mimetype": "text/x-python",
      "name": "python",
      "nbconvert_exporter": "python",
      "pygments_lexer": "ipython3",
      "version": "3.8.5"
    },
    "toc": {
      "base_numbering": 1,
      "nav_menu": {},
      "number_sections": false,
      "sideBar": true,
      "skip_h1_title": false,
      "title_cell": "Table of Contents",
      "title_sidebar": "Contents",
      "toc_cell": false,
      "toc_position": {
        "height": "calc(100% - 180px)",
        "left": "10px",
        "top": "150px",
        "width": "141.989px"
      },
      "toc_section_display": true,
      "toc_window_display": false
    },
    "colab": {
      "name": "2.ipynb",
      "provenance": [],
      "collapsed_sections": []
    }
  },
  "cells": [
    {
      "cell_type": "markdown",
      "metadata": {
        "id": "RC481nr7LMo_"
      },
      "source": [
        "##### 1.Напишите уравнение параболы, проходящей через три точки (x,y): (1,2), (3,10), (5,1)"
      ]
    },
    {
      "cell_type": "markdown",
      "metadata": {
        "id": "ISi_e2phLMpG"
      },
      "source": [
        "\\begin{equation*}\n",
        " \\begin{cases}\n",
        "a + b + c = 2 \n",
        "\\\\\n",
        "9a + 3b + c = 10 \n",
        "\\\\\n",
        "25a + 5b + c = 1 \n",
        " \\end{cases}\n",
        "\\end{equation*}\n",
        "<br>"
      ]
    },
    {
      "cell_type": "markdown",
      "metadata": {
        "id": "W93biST-LRa3"
      },
      "source": [
        "$ a = 2 - b - c $<br>\n",
        "$ 9 \\cdot (2-b-c) + 3b + c = 10 $ <br>\n",
        "$ 18 - 9b - 9c + 3b + c = 10 $<br>\n",
        "$ 6b + 8c = 8 $<br>\n",
        "$ 50 - 25b - 25c + 5b + c = 1 $<br>\n",
        "$ 20b + 24c = 49 $<br><br>\n",
        "\n",
        "$ 6b + 8c = 8 $<br>\n",
        "$ 20b + 24c = 49 $<br>\n",
        "$ b = \\frac{8 - 8c}{6} $<br>\n",
        "$ \\frac{10(8-8c)}{3} + 24c = 49 $<br>\n",
        "$ 80-80c + 72c = 147 $<br>\n",
        "$ -8c = 67 $<br>\n",
        "$ c = -\\frac{67}{8} $<br>\n",
        "$ b = \\frac{8+\\frac{64}{8}\\frac{67}{8}}{6} = \\frac{25}{2} $<br>\n",
        "$ a = 2 + \\frac{67}{8} - \\frac{75}{6} = \\frac{498}{48} - \\frac{600}{48} = -\\frac{17}{6}$<br>\n",
        "<br>\n",
        "$\\text{Получившееся уравнение параболы: }$\n",
        "$ y(x) = -\\frac{17}{8}x^2 + \\frac{25}{2}x - \\frac{67}{8} $ "
      ]
    },
    {
      "cell_type": "code",
      "metadata": {
        "colab": {
          "base_uri": "https://localhost:8080/",
          "height": 497
        },
        "id": "nRfmTpcIOhfj",
        "outputId": "e97415e1-764c-4c20-fe8b-6ceaefcd0d1f"
      },
      "source": [
        "import matplotlib.pyplot as plt\n",
        "import numpy as np\n",
        "plt.figure(figsize=(16, 8))\n",
        "# X = np.arange(-10, 17)\n",
        "X= np.arange(0, 6)\n",
        "y = [(-(17/8)*x**2) + ((25/2)*x) - ((67/8)) for x in X]\n",
        "\n",
        "plt.plot(X, y)\n",
        "plt.ylabel('y(x)')\n",
        "plt.xlabel('x')\n",
        "plt.hlines(0, xmin=0, xmax=17, alpha=0.4);\n",
        "plt.vlines(0, ymin=0, ymax=17, alpha=0.4);\n",
        "plt.plot(1, 2, 'go')\n",
        "plt.plot(3, 10, 'ro')\n",
        "plt.plot(5, 1, 'yo');"
      ],
      "execution_count": 37,
      "outputs": [
        {
          "output_type": "display_data",
          "data": {
            "image/png": "[encoded data removed]",
            "text/plain": [
              "<Figure size 1152x576 with 1 Axes>"
            ]
          },
          "metadata": {
            "tags": [],
            "needs_background": "light"
          }
        }
      ]
    },
    {
      "cell_type": "markdown",
      "metadata": {
        "id": "RV6Ex6bnLMpI"
      },
      "source": [
        "##### 2. Известно, что свежий огурец на 99% состоит из воды. Месяц назад взвесили мешок со свежими огурцами. Получилось, что огурцов ровно 100 кг. Мешок убрали, а через месяц снова взвесили. Огурцы за это время усохли, и теперь вода составляет уже только 98% их веса. Сколько теперь (в кг) весят огурцы?"
      ]
    },
    {
      "cell_type": "markdown",
      "metadata": {
        "id": "s9n0xCfQLMpJ"
      },
      "source": [
        "$\\text{100 кг огурцов = 99кг воды + 1кг огурца}$<br>\n",
        "$\\text{x кг огурцов = (0.98x) кг воды + 1кг огурца}$<br><br>\n",
        "$ x - 0.98x = 100 - 100 \\cdot 0.99 $<br>\n",
        "$ \\frac{2}{100}x = 1 $<br><br>\n",
        "$ x = \\frac{100}{2} = \\underline{50(кг)}$"
      ]
    },
    {
      "cell_type": "markdown",
      "metadata": {
        "id": "K6lMiOjmLMpL"
      },
      "source": [
        "##### 3. Определение логарифма. Решить уравнения:"
      ]
    },
    {
      "cell_type": "markdown",
      "metadata": {
        "id": "xq1e2_4cLMpM"
      },
      "source": [
        "1) $2^x = 256 $<br>\n",
        "$\\quad x = \\log_2{256} = \\log_{2^1}2^8 = 8\\log_22$<br><br>\n",
        "$\\quad \\underline{x = 8} $<br>"
      ]
    },
    {
      "cell_type": "markdown",
      "metadata": {
        "id": "i17FZKVYLMpN"
      },
      "source": [
        "2) $ 2^x = 300 $<br>\n",
        "$\\quad x = \\log_2{300}$<br><br>\n",
        "$\\quad \\underline{x \\approx 8} $<br>"
      ]
    },
    {
      "cell_type": "markdown",
      "metadata": {
        "id": "N-SAehbVLMpO"
      },
      "source": [
        "3) $ \\log_82^{8x-4} = 4 $<br>\n",
        "$\\quad 8^4 = 2^{8x-4}$<br>\n",
        "$\\quad 8x - 4 = 12 $<br><br>\n",
        "$\\quad\\underline{x = 2} $<br>"
      ]
    },
    {
      "cell_type": "markdown",
      "metadata": {
        "id": "actXzJQtLMpP"
      },
      "source": [
        "3) $ 3^{\\log_9{(5x-5)}} = 5 $<br>\n",
        "$\\quad ОДЗ: x > 1 $<br>\n",
        "$\\quad \\log_35 = \\log_3(5x - 5)^{\\frac{1}{2}} \\Rightarrow$\n",
        "$\\sqrt{5x-5} = 5 $<br><br>\n",
        "$\\quad \\underline{x = 6} $<br>"
      ]
    },
    {
      "cell_type": "markdown",
      "metadata": {
        "id": "aVae1BzyLMpQ"
      },
      "source": [
        "3) $ x^{\\log_{3}x  +1} = 9 $<br>\n",
        "$\\quad \\log_{x} 3^2 \\ = \\log_{3} x + 1 $<br><br>\n",
        "$\\quad ОДЗ: x \\gt -1 $<br><br>\n",
        "$\\quad 2\\frac{1}{\\log_{3}x} = \\log_{3}x + 1  $<br><br>\n",
        "$\\quad \\log_{3}x(\\log_{3}x + 1) - 2 = 0 \\qquad \\log_{3}x = a $<br>\n",
        "$\\quad a^2 - a - 2 = 0 $<br>\n",
        "$\\quad D = 1 + 8 = 9 > 0 \\quad \\Rightarrow \\quad a_1 = -2, a_2 = 1 $<br>\n",
        "$\\quad \\small a_1 \\text{ не соответствует области допустимых значений.} $<br>\n",
        "$\\quad \\log_{3} = 1 \\Rightarrow x = 3 $<br><br>\n",
        "$\\quad \\underline{x = 3}$<br>"
      ]
    },
    {
      "cell_type": "markdown",
      "metadata": {
        "id": "OV3hepcDLMpR"
      },
      "source": [
        "##### 4. Свойства логарифмов. "
      ]
    },
    {
      "cell_type": "markdown",
      "metadata": {
        "id": "22qyu9ILLMpS"
      },
      "source": [
        "1. $\\log_{4} 16 = \\log_{2^2}2^4 = \\frac{4}{2}\\log_{2}2 = \\underline2$"
      ]
    },
    {
      "cell_type": "markdown",
      "metadata": {
        "id": "PDV9-T_cLMpT"
      },
      "source": [
        "2. $\\log_{5}\\frac{1}{25} = -\\log_{5}5^2 = \\underline{-2}$"
      ]
    },
    {
      "cell_type": "markdown",
      "metadata": {
        "id": "JQrFGYk7LMpT"
      },
      "source": [
        "3. $ \\log_{25}5 = \\frac{1}{\\log_{5}5^2} = \\underline{\\frac{1}{2}} $"
      ]
    },
    {
      "cell_type": "markdown",
      "metadata": {
        "id": "rKfB1fUGLMpU"
      },
      "source": [
        "4. $ \\log_{3}\\sqrt{27} = \\frac{1}{2}(\\log_{3} 3 + \\log_{3} 9) =\\underline{\\frac{3}{2}} $"
      ]
    },
    {
      "cell_type": "markdown",
      "metadata": {
        "id": "yazmInb-LMpU"
      },
      "source": [
        "5. $\\log_{2}12 + \\log_{2} 3 = \\log_{2} 2^5 = \\underline 5$"
      ]
    },
    {
      "cell_type": "markdown",
      "metadata": {
        "id": "vfw0FkLRLMpV"
      },
      "source": [
        "6. $ \\log_{6} 12 + \\log_{6} 3 = \\log_{6} 36 = \\underline 2 $"
      ]
    },
    {
      "cell_type": "markdown",
      "metadata": {
        "id": "4DphudlPLMpV"
      },
      "source": [
        "7. $ e^{\\ln{5}} = x$<br>\n",
        "$\\ln{x} = \\ln{5}$<br>\n",
        "$\\underline{x = 5}$"
      ]
    },
    {
      "cell_type": "markdown",
      "metadata": {
        "id": "xSo-TEzHLMpW"
      },
      "source": [
        "8. $ \\frac{\\log_{2} 225}{\\log_{2} 15} = \\log_{15} 15^2 = \\underline{2}$"
      ]
    },
    {
      "cell_type": "markdown",
      "metadata": {
        "id": "ohH609U8LMpX"
      },
      "source": [
        "9. $ \\log_{4} 32 + \\log_{10^{-1}} 10 = \\frac{5}{2}\\log_{2} 2 - \\log_{10} 10 = \\frac{3}{2} = \\underline{1.5} $"
      ]
    },
    {
      "cell_type": "markdown",
      "metadata": {
        "id": "hF7EvX3oLMpX"
      },
      "source": [
        "10. $ 9^{log_{3}\\sqrt{5}} = x $<br>\n",
        "$ \\log_{3^2} x = \\log_{3} 5^{\\frac{1}{2}} $<br>\n",
        "$ \\frac{1}{2}\\log_{3} x = \\frac{1}{2}\\log_{3} 5 | \\cdot 2 $<br>\n",
        "$ \\underline{x = 5} $"
      ]
    }
  ]
}